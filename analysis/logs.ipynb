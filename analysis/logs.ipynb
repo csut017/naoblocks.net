{
 "metadata": {
  "language_info": {
   "codemirror_mode": {
    "name": "ipython",
    "version": 3
   },
   "file_extension": ".py",
   "mimetype": "text/x-python",
   "name": "python",
   "nbconvert_exporter": "python",
   "pygments_lexer": "ipython3",
   "version": "3.8.5-final"
  },
  "orig_nbformat": 2,
  "kernelspec": {
   "name": "python3",
   "display_name": "Python 3"
  }
 },
 "nbformat": 4,
 "nbformat_minor": 2,
 "cells": [
  {
   "cell_type": "code",
   "execution_count": 21,
   "metadata": {},
   "outputs": [],
   "source": [
    "import numpy as np\n",
    "import pandas as pd\n",
    "import requests\n"
   ]
  },
  {
   "cell_type": "code",
   "execution_count": 22,
   "metadata": {},
   "outputs": [],
   "source": [
    "df = pd.read_excel('c:/temp/naolang_logs.xlsx', sheet_name='Programs')\n",
    "filtered = df.loc[1:,['When Added', 'Program']]"
   ]
  },
  {
   "cell_type": "code",
   "execution_count": 23,
   "metadata": {},
   "outputs": [
    {
     "output_type": "execute_result",
     "data": {
      "text/plain": [
       "                 When Added                                            Program\n",
       "1   2020-11-26 21:03:16.820  reset()\\nstart{\\n[_~e?$-;Gk)bst{#xdfsP]positio...\n",
       "2   2020-11-26 21:04:03.958  reset()\\nstart{\\n[_~e?$-;Gk)bst{#xdfsP]positio...\n",
       "3   2020-11-26 21:05:00.142  reset()\\nstart{\\n[pD-T!_.mOgyA#OL?98Re]positio...\n",
       "4   2020-11-26 21:08:19.118  reset()\\nstart{\\n[9o?^DD89QGcImPD7fCg5]changeL...\n",
       "5   2020-11-26 21:08:34.273  reset()\\nstart{\\n[9o?^DD89QGcImPD7fCg5]changeL...\n",
       "..                      ...                                                ...\n",
       "137 2020-11-27 01:57:40.697  reset()\\nstart{\\n[44EKq5-c8#R#+C8/33}R]changeL...\n",
       "138 2020-11-27 01:57:56.730  reset()\\nstart{\\n[44EKq5-c8#R#+C8/33}R]changeL...\n",
       "139 2020-11-27 01:58:44.775  reset()\\nstart{\\n[44EKq5-c8#R#+C8/33}R]changeL...\n",
       "140 2020-11-27 01:59:39.883  reset()\\nstart{\\n[44EKq5-c8#R#+C8/33}R]changeL...\n",
       "141 2020-11-27 02:00:37.532  reset()\\nstart{\\n[44EKq5-c8#R#+C8/33}R]changeL...\n",
       "\n",
       "[141 rows x 2 columns]"
      ],
      "text/html": "<div>\n<style scoped>\n    .dataframe tbody tr th:only-of-type {\n        vertical-align: middle;\n    }\n\n    .dataframe tbody tr th {\n        vertical-align: top;\n    }\n\n    .dataframe thead th {\n        text-align: right;\n    }\n</style>\n<table border=\"1\" class=\"dataframe\">\n  <thead>\n    <tr style=\"text-align: right;\">\n      <th></th>\n      <th>When Added</th>\n      <th>Program</th>\n    </tr>\n  </thead>\n  <tbody>\n    <tr>\n      <th>1</th>\n      <td>2020-11-26 21:03:16.820</td>\n      <td>reset()\\nstart{\\n[_~e?$-;Gk)bst{#xdfsP]positio...</td>\n    </tr>\n    <tr>\n      <th>2</th>\n      <td>2020-11-26 21:04:03.958</td>\n      <td>reset()\\nstart{\\n[_~e?$-;Gk)bst{#xdfsP]positio...</td>\n    </tr>\n    <tr>\n      <th>3</th>\n      <td>2020-11-26 21:05:00.142</td>\n      <td>reset()\\nstart{\\n[pD-T!_.mOgyA#OL?98Re]positio...</td>\n    </tr>\n    <tr>\n      <th>4</th>\n      <td>2020-11-26 21:08:19.118</td>\n      <td>reset()\\nstart{\\n[9o?^DD89QGcImPD7fCg5]changeL...</td>\n    </tr>\n    <tr>\n      <th>5</th>\n      <td>2020-11-26 21:08:34.273</td>\n      <td>reset()\\nstart{\\n[9o?^DD89QGcImPD7fCg5]changeL...</td>\n    </tr>\n    <tr>\n      <th>...</th>\n      <td>...</td>\n      <td>...</td>\n    </tr>\n    <tr>\n      <th>137</th>\n      <td>2020-11-27 01:57:40.697</td>\n      <td>reset()\\nstart{\\n[44EKq5-c8#R#+C8/33}R]changeL...</td>\n    </tr>\n    <tr>\n      <th>138</th>\n      <td>2020-11-27 01:57:56.730</td>\n      <td>reset()\\nstart{\\n[44EKq5-c8#R#+C8/33}R]changeL...</td>\n    </tr>\n    <tr>\n      <th>139</th>\n      <td>2020-11-27 01:58:44.775</td>\n      <td>reset()\\nstart{\\n[44EKq5-c8#R#+C8/33}R]changeL...</td>\n    </tr>\n    <tr>\n      <th>140</th>\n      <td>2020-11-27 01:59:39.883</td>\n      <td>reset()\\nstart{\\n[44EKq5-c8#R#+C8/33}R]changeL...</td>\n    </tr>\n    <tr>\n      <th>141</th>\n      <td>2020-11-27 02:00:37.532</td>\n      <td>reset()\\nstart{\\n[44EKq5-c8#R#+C8/33}R]changeL...</td>\n    </tr>\n  </tbody>\n</table>\n<p>141 rows × 2 columns</p>\n</div>"
     },
     "metadata": {},
     "execution_count": 23
    }
   ],
   "source": [
    "filtered"
   ]
  },
  {
   "cell_type": "code",
   "execution_count": 45,
   "metadata": {},
   "outputs": [],
   "source": [
    "headers = {'Content-Type': 'application/json; charset=utf-8'}\n",
    "data = {'name': 'bob','password': 'bob'}\n",
    "r = requests.post('http://localhost:5000/api/v1/session', json = data, headers = headers)\n",
    "r.raise_for_status()\n",
    "token = r.json()['output']['token']\n",
    "headers['Authorization'] = 'Bearer %s' % (token, )"
   ]
  },
  {
   "cell_type": "code",
   "execution_count": 46,
   "metadata": {},
   "outputs": [
    {
     "output_type": "execute_result",
     "data": {
      "text/plain": [
       "{'output': {'nodes': [{'token': {'lineNumber': 0,\n",
       "     'linePosition': 0,\n",
       "     'type': 'Identifier',\n",
       "     'value': 'reset'},\n",
       "    'type': 'Function'}]},\n",
       " 'successful': True}"
      ]
     },
     "metadata": {},
     "execution_count": 46
    }
   ],
   "source": [
    "data = {'code': 'reset()'}\n",
    "r = requests.post('http://localhost:5000/api/v1/code/compile', json = data, headers = headers)\n",
    "r.raise_for_status()\n",
    "r.json()"
   ]
  },
  {
   "cell_type": "code",
   "execution_count": 130,
   "metadata": {},
   "outputs": [],
   "source": [
    "def compile(code):\n",
    "    data = {'code': code}\n",
    "    r = requests.post('http://localhost:5000/api/v1/code/compile', json = data, headers = headers)\n",
    "    r.raise_for_status()\n",
    "    return r.json()['output']['nodes']\n",
    "\n",
    "filtered['Compiled'] = filtered.apply(lambda row: compile(row['Program']), axis=1)"
   ]
  },
  {
   "cell_type": "code",
   "execution_count": 139,
   "metadata": {},
   "outputs": [],
   "source": [
    "def formatToken(token):\n",
    "    value = token['value']\n",
    "    if token['type'] == 'Text':\n",
    "        return \"'%s'\" % (value, )\n",
    "    return value\n",
    "\n",
    "def formatNode(node):\n",
    "    args = ''\n",
    "    if 'arguments' in node:\n",
    "        args = '(' + ','.join(map(formatNode, node['arguments'])) +  ')'\n",
    "    children = ''\n",
    "    if 'children' in node:\n",
    "        children = '->[' + ','.join(map(formatNode, node['children'])) +  ']'\n",
    "    return node['type'] + ':' + formatToken(node['token']) + args + children\n",
    "\n",
    "def format(nodes):\n",
    "    start_node = nodes[1]\n",
    "    if 'children' in start_node:\n",
    "        return '\\n'.join(map(formatNode, start_node['children']))\n",
    "    else:\n",
    "        return ''\n",
    "\n",
    "filtered['Output'] = filtered.apply(lambda row: format(row['Compiled']), axis=1)"
   ]
  },
  {
   "cell_type": "code",
   "execution_count": 140,
   "metadata": {},
   "outputs": [
    {
     "output_type": "execute_result",
     "data": {
      "text/plain": [
       "\"Function:say(Constant:'Ssssssstttttttttooooooooopppppppppp iiiiiittttt')\""
      ]
     },
     "metadata": {},
     "execution_count": 140
    }
   ],
   "source": [
    "filtered.loc[10,'Output']"
   ]
  },
  {
   "cell_type": "code",
   "execution_count": 141,
   "metadata": {},
   "outputs": [],
   "source": [
    "filtered.to_excel('c:/temp/formatted.xlsx', sheet_name='logs')"
   ]
  },
  {
   "cell_type": "code",
   "execution_count": null,
   "metadata": {},
   "outputs": [],
   "source": []
  }
 ]
}